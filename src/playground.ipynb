{
 "cells": [
  {
   "cell_type": "code",
   "execution_count": null,
   "metadata": {},
   "outputs": [],
   "source": [
    "import ipywidgets as widgets\n",
    "\n",
    "wordlist_textarea = widgets.Textarea(description=\"Vocabulary:\", layout=widgets.Layout(height=\"100px\"))\n",
    "n_words_slider = widgets.IntSlider(value=50, min=30, max=100, step=10, description=\"Number of output words:\")\n",
    "n_words_slider.style.description_width = \"50%\"\n",
    "\n",
    "generate_button = widgets.Button(description=\"Generate prompt\")\n",
    "clear_button = widgets.Button(description=\"Clear\")\n",
    "buttons_hbox = widgets.HBox([generate_button, clear_button])\n",
    "\n",
    "prompt_textarea = widgets.Textarea(description=\"Prompt:\", layout=widgets.Layout(height=\"160px\"))\n",
    "\n",
    "input_widgets_vbox = widgets.VBox([wordlist_textarea, n_words_slider, buttons_hbox])\n",
    "\n",
    "toplevel_container = widgets.HBox([input_widgets_vbox, prompt_textarea])\n",
    "\n",
    "def on_generate_prompt(_):\n",
    "    words = wordlist_textarea.value.split()\n",
    "    n_output_words = n_words_slider.value\n",
    "    print(f\"{words} | {n_output_words}\")\n",
    "\n",
    "def on_clear(_):\n",
    "    wordlist_textarea.value = \"\"\n",
    "\n",
    "generate_button.on_click(on_generate_prompt)\n",
    "clear_button.on_click(on_clear)\n",
    "\n",
    "display(toplevel_container)"
   ]
  }
 ],
 "metadata": {
  "kernelspec": {
   "display_name": "ml",
   "language": "python",
   "name": "python3"
  },
  "language_info": {
   "codemirror_mode": {
    "name": "ipython",
    "version": 3
   },
   "file_extension": ".py",
   "mimetype": "text/x-python",
   "name": "python",
   "nbconvert_exporter": "python",
   "pygments_lexer": "ipython3",
   "version": "3.10.6"
  },
  "orig_nbformat": 4
 },
 "nbformat": 4,
 "nbformat_minor": 2
}
